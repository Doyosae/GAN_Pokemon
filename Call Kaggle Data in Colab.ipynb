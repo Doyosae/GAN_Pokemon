{
  "nbformat": 4,
  "nbformat_minor": 0,
  "metadata": {
    "colab": {
      "name": "Call Kaggle Data in Colab.ipynb",
      "version": "0.3.2",
      "provenance": []
    },
    "kernelspec": {
      "name": "python3",
      "display_name": "Python 3"
    }
  },
  "cells": [
    {
      "cell_type": "markdown",
      "metadata": {
        "id": "09cScfXC7n7V",
        "colab_type": "text"
      },
      "source": [
        "필요한 유틸리티를 임포트하고 구글 코랩에 파일을 올리는 구문을 실행"
      ]
    },
    {
      "cell_type": "code",
      "metadata": {
        "id": "9sGIWQsX6fcw",
        "colab_type": "code",
        "colab": {}
      },
      "source": [
        "import os\n",
        "import numpy as np\n",
        "\n",
        "from google.colab import files\n",
        "files.upload()"
      ],
      "execution_count": 0,
      "outputs": []
    },
    {
      "cell_type": "markdown",
      "metadata": {
        "id": "qp3L2SbV7t3Z",
        "colab_type": "text"
      },
      "source": [
        "캐글에서 원하는 Data 카테고리에 가면 다운로드 API가 있어요. 그것을 붙여넣기하여 아래의 명령을 실행해주세요."
      ]
    },
    {
      "cell_type": "code",
      "metadata": {
        "id": "TtaZAAWF6exY",
        "colab_type": "code",
        "colab": {}
      },
      "source": [
        "!mkdir -p ~/.kaggle\n",
        "!cp kaggle.json ~/.kaggle/\n",
        "!chmod 600 ~/.kaggle/kaggle.json\n",
        "\n",
        "# 데이터셋 다운로드 받기 - 링크는 그 대회 'Data'에 있음\n",
        "!kaggle datasets download -d kvpratama/pokemon-images-dataset\n",
        "!unzip pokemon-images-dataset.zip\n",
        "!unzip pokemon.zip\n",
        "\n",
        "ImagePath = \"pokemon/\"\n",
        "WantedImageShape = (64, 64, 3)\n",
        "SliceNumber = 800"
      ],
      "execution_count": 0,
      "outputs": []
    },
    {
      "cell_type": "code",
      "metadata": {
        "id": "k62iga4u6yB7",
        "colab_type": "code",
        "colab": {}
      },
      "source": [
        "LoadImage = np.array (os.listdir (ImagePath))\n",
        "LoadImage = LoadImage [ : SliceNumber]\n",
        "print (LoadImage[0 : 5])"
      ],
      "execution_count": 0,
      "outputs": []
    }
  ]
}